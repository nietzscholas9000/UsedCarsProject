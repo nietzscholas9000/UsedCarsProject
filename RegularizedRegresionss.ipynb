{
 "cells": [
  {
   "cell_type": "code",
   "execution_count": 29,
   "metadata": {},
   "outputs": [],
   "source": [
    "# Non regularized poynomial regretion followed by ridge, lasso, and elasticNet\n",
    "\n",
    "import numpy as np\n",
    "import matplotlib.pyplot as plt\n",
    "import pandas as pd\n",
    "\n",
    "#Loading the dataset\n",
    "dataset = pd.read_csv('processed.csv')\n",
    "\n",
    "X = dataset.iloc[:,2:].values \n",
    "y = dataset.iloc[:,1].values"
   ]
  },
  {
   "cell_type": "code",
   "execution_count": null,
   "metadata": {},
   "outputs": [],
   "source": [
    "#Splitting the data into Training Set and Test Set\n",
    "from sklearn.model_selection import train_test_split\n",
    "X_train, X_test, y_train, y_test = train_test_split(X,y,test_size=0.2,random_state=0)\n",
    "\n",
    "#Fitting Multiple Linear Regression to Training Set\n",
    "from sklearn.linear_model import LinearRegression\n",
    "# mlrObj = LinearRegression()\n",
    "# mlrObj.fit(X_train,y_train)\n",
    "\n",
    "#Polynomial Regression No Regularization\n",
    "from sklearn.preprocessing import PolynomialFeatures\n",
    "polyFeatureObj = PolynomialFeatures(degree=2)  # I can get it to run with 1 degree but get memory errors at 2\n",
    "X_poly = polyFeatureObj.fit_transform(X_train)\n",
    "X_poly_test = polyFeatureObj.fit_transform(X_test)  \n",
    "prObj = LinearRegression()\n",
    "prObj.fit(X_poly, y_train)\n",
    "\n",
    "print(prObj.score(X_poly_test,y_test))"
   ]
  },
  {
   "cell_type": "code",
   "execution_count": 34,
   "metadata": {},
   "outputs": [
    {
     "name": "stdout",
     "output_type": "stream",
     "text": [
      "-41.3436866075732\n"
     ]
    }
   ],
   "source": [
    "#Polynomial Regression with Ridge\n",
    "from sklearn.preprocessing import PolynomialFeatures\n",
    "from sklearn.linear_model import Ridge\n",
    "polyFeatureObj = PolynomialFeatures(degree=1)\n",
    "X_poly = polyFeatureObj.fit_transform(X_train)\n",
    "X_poly_test = polyFeatureObj.fit_transform(X_test) \n",
    "ridgeObj = Ridge()\n",
    "ridgeObj.fit(X_poly, y_train)\n",
    "\n",
    "print(prObj.score(X_poly_test,y_test))"
   ]
  },
  {
   "cell_type": "code",
   "execution_count": null,
   "metadata": {},
   "outputs": [],
   "source": [
    "#Polynomial Regression with Lasso\n",
    "from sklearn.preprocessing import PolynomialFeatures\n",
    "from sklearn.linear_model import Lasso\n",
    "polyFeatureObj = PolynomialFeatures(degree=10)\n",
    "X_poly = polyFeatureObj.fit_transform(X_train)\n",
    "X_poly_test = polyFeatureObj.fit_transform(X_test)  \n",
    "lassoObj = Lasso()\n",
    "lassoObj.fit(X_poly, y_train)"
   ]
  },
  {
   "cell_type": "code",
   "execution_count": null,
   "metadata": {},
   "outputs": [],
   "source": [
    "#Polynomial Regression with ElasticNet\n",
    "from sklearn.preprocessing import PolynomialFeatures\n",
    "from sklearn.linear_model import ElasticNet\n",
    "polyFeatureObj = PolynomialFeatures(degree=10)\n",
    "X_poly = polyFeatureObj.fit_transform(X_train)\n",
    "X_poly_test = polyFeatureObj.fit_transform(X_test)  \n",
    "enObj = ElasticNet(l1_ratio=1)\n",
    "enObj.fit(X_poly, y_train)"
   ]
  },
  {
   "cell_type": "code",
   "execution_count": null,
   "metadata": {},
   "outputs": [],
   "source": [
    "# visualizations from profs notebook, will X variables need to be changed to X_poly?\n",
    "\n",
    "#Visualizing Results of Polynomial Regression\n",
    "plt.scatter(X, y, color='red')\n",
    "plt.plot(X, prObj.predict(X_poly), color='blue')\n",
    "plt.title('Results of Polynomial Regression Model')\n",
    "plt.xlabel('Level')\n",
    "plt.ylabel('Salary')\n",
    "plt.show()\n",
    "\n",
    "#Visualizing Results of Ridge Regression\n",
    "plt.scatter(X, y, color='red')\n",
    "plt.plot(X, ridgeObj.predict(X_poly), color='blue')\n",
    "plt.title('Results of Ridge Regression Model')\n",
    "plt.xlabel('Level')\n",
    "plt.ylabel('Salary')\n",
    "plt.show()\n",
    "\n",
    "#Visualizing Results of Lasso Regression\n",
    "plt.scatter(X, y, color='red')\n",
    "plt.plot(X, lassoObj.predict(X_poly), color='blue')\n",
    "plt.title('Results of Lasso Regression Model')\n",
    "plt.xlabel('Level')\n",
    "plt.ylabel('Salary')\n",
    "plt.show()\n",
    "\n",
    "#Visualizing Results of ElasticNet Regression\n",
    "plt.scatter(X, y, color='red')\n",
    "plt.plot(X, enObj.predict(X_poly), color='blue')\n",
    "plt.title('Results of ElasticNet Regression Model')\n",
    "plt.xlabel('Level')\n",
    "plt.ylabel('Salary')\n",
    "plt.show()"
   ]
  },
  {
   "cell_type": "code",
   "execution_count": null,
   "metadata": {},
   "outputs": [],
   "source": [
    "#Predicting on the Test Set\n",
    "print(prObj.score(X_poly_test,y_test))\n",
    "y_pred = prObj.predict(X_poly_test)\n",
    "print(y_pred)\n",
    "print(y_test)\n",
    "\n",
    "\n",
    "# calculating mean squared error from of the models\n",
    "MSE = np.mean((y_test - y_pred)**2)\n",
    "MSE_sig = np.mean((y_test - y_sig_pred)**2)"
   ]
  }
 ],
 "metadata": {
  "kernelspec": {
   "display_name": "Python 3",
   "language": "python",
   "name": "python3"
  },
  "language_info": {
   "codemirror_mode": {
    "name": "ipython",
    "version": 3
   },
   "file_extension": ".py",
   "mimetype": "text/x-python",
   "name": "python",
   "nbconvert_exporter": "python",
   "pygments_lexer": "ipython3",
   "version": "3.7.3"
  }
 },
 "nbformat": 4,
 "nbformat_minor": 4
}
