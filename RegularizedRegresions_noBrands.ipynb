{
  "nbformat": 4,
  "nbformat_minor": 0,
  "metadata": {
    "kernelspec": {
      "display_name": "Python 3",
      "language": "python",
      "name": "python3"
    },
    "language_info": {
      "codemirror_mode": {
        "name": "ipython",
        "version": 3
      },
      "file_extension": ".py",
      "mimetype": "text/x-python",
      "name": "python",
      "nbconvert_exporter": "python",
      "pygments_lexer": "ipython3",
      "version": "3.7.3"
    },
    "colab": {
      "name": "RegularizedRegresions_noBrands.ipynb",
      "provenance": [],
      "include_colab_link": true
    }
  },
  "cells": [
    {
      "cell_type": "markdown",
      "metadata": {
        "id": "view-in-github",
        "colab_type": "text"
      },
      "source": [
        "<a href=\"https://colab.research.google.com/github/nietzscholas9000/UsedCarsProject/blob/master/RegularizedRegresions_noBrands.ipynb\" target=\"_parent\"><img src=\"https://colab.research.google.com/assets/colab-badge.svg\" alt=\"Open In Colab\"/></a>"
      ]
    },
    {
      "cell_type": "code",
      "metadata": {
        "id": "4YfGuLN8U5FQ",
        "colab_type": "code",
        "colab": {
          "base_uri": "https://localhost:8080/",
          "height": 109
        },
        "outputId": "f2080c19-24f6-4e38-a026-5f3615df42fc"
      },
      "source": [
        "# Poly w/o regularization\n",
        "\n",
        "import numpy as np\n",
        "import matplotlib.pyplot as plt\n",
        "import pandas as pd\n",
        "\n",
        "#Loading the dataset\n",
        "dataset = pd.read_csv('processed_without_modelbrand.csv')\n",
        "\n",
        "X = dataset.iloc[:,2:].values \n",
        "y = dataset.iloc[:,1].values\n",
        "\n",
        "#Splitting the data into Training Set and Test Set\n",
        "from sklearn.model_selection import train_test_split\n",
        "X_train, X_test, y_train, y_test = train_test_split(X,y,test_size=0.2,random_state=0)\n",
        "\n",
        "#Fitting Multiple Linear Regression to Training Set\n",
        "from sklearn.linear_model import LinearRegression\n",
        "# mlrObj = LinearRegression()\n",
        "# mlrObj.fit(X_train,y_train)\n",
        "\n",
        "\n",
        "\n",
        "#Polynomial Regression No Regularization\n",
        "from sklearn.preprocessing import PolynomialFeatures\n",
        "polyFeatureObj = PolynomialFeatures(degree=3)\n",
        "X_poly = polyFeatureObj.fit_transform(X_train)\n",
        "X_poly_test = polyFeatureObj.fit_transform(X_test)  \n",
        "prObj = LinearRegression()\n",
        "prObj.fit(X_poly, y_train)\n",
        "# runs out of memory above 3 degrees on normal colab\n",
        "\n",
        "from sklearn.metrics import mean_squared_error\n",
        "y_pred = enObj.predict(X_poly_test)\n",
        "print(prObj.score(X_poly_test,y_test))\n",
        "print(y_test)\n",
        "print(y_pred)\n",
        "print(mean_squared_error(y_test, y_pred))  # ran w/o this line\n",
        "print(mean_squared_error(10**y_test, 10**y_pred))"
      ],
      "execution_count": 9,
      "outputs": [
        {
          "output_type": "stream",
          "text": [
            "0.8005625104685701\n",
            "[3.11394335 4.0374265  3.91381385 ... 4.35216322 3.69853549 3.34242268]\n",
            "[3.02619921 4.05935566 3.99195311 ... 4.08513394 3.71437823 3.22779485]\n",
            "0.05737494051030482\n",
            "891852291922635.6\n"
          ],
          "name": "stdout"
        }
      ]
    },
    {
      "cell_type": "code",
      "metadata": {
        "id": "e3AqjTXJU5FZ",
        "colab_type": "code",
        "colab": {
          "base_uri": "https://localhost:8080/",
          "height": 146
        },
        "outputId": "8d734ae8-76a8-4b04-ec1a-9b5cd403daa1"
      },
      "source": [
        "# Ridge\n",
        "\n",
        "import numpy as np\n",
        "import matplotlib.pyplot as plt\n",
        "import pandas as pd\n",
        "\n",
        "#Loading the dataset\n",
        "dataset = pd.read_csv('processed_without_modelbrand.csv')\n",
        "\n",
        "X = dataset.iloc[:,2:].values \n",
        "y = dataset.iloc[:,1].values\n",
        "\n",
        "#Splitting the data into Training Set and Test Set\n",
        "from sklearn.model_selection import train_test_split\n",
        "X_train, X_test, y_train, y_test = train_test_split(X,y,test_size=0.2,random_state=0)\n",
        "\n",
        "\n",
        "\n",
        "#Polynomial Regression with Ridge\n",
        "# runs out of memory above 3 degrees on normal colab\n",
        "from sklearn.preprocessing import PolynomialFeatures\n",
        "from sklearn.linear_model import Ridge\n",
        "polyFeatureObj = PolynomialFeatures(degree=3)\n",
        "X_poly = polyFeatureObj.fit_transform(X_train)\n",
        "X_poly_test = polyFeatureObj.fit_transform(X_test) \n",
        "ridgeObj = Ridge()\n",
        "ridgeObj.fit(X_poly, y_train)\n",
        "\n",
        "from sklearn.metrics import mean_squared_error\n",
        "y_pred = ridgeObj.predict(X_poly_test)\n",
        "print(ridgeObj.score(X_poly_test,y_test))\n",
        "print(y_test)\n",
        "print(y_pred)\n",
        "print(mean_squared_error(y_test, y_pred))\n",
        "print(mean_squared_error(10**y_test, 10**y_pred))"
      ],
      "execution_count": 10,
      "outputs": [
        {
          "output_type": "stream",
          "text": [
            "/usr/local/lib/python3.6/dist-packages/sklearn/linear_model/_ridge.py:148: LinAlgWarning: Ill-conditioned matrix (rcond=1.2489e-36): result may not be accurate.\n",
            "  overwrite_a=True).T\n"
          ],
          "name": "stderr"
        },
        {
          "output_type": "stream",
          "text": [
            "0.8033358571627442\n",
            "[3.11394335 4.0374265  3.91381385 ... 4.35216322 3.69853549 3.34242268]\n",
            "[3.01442804 4.07314428 3.98264876 ... 4.08748082 3.71545887 3.2213238 ]\n",
            "0.04965209669429757\n",
            "66301784.96782527\n"
          ],
          "name": "stdout"
        }
      ]
    },
    {
      "cell_type": "code",
      "metadata": {
        "id": "zhva7t--U5Ff",
        "colab_type": "code",
        "colab": {
          "base_uri": "https://localhost:8080/",
          "height": 166
        },
        "outputId": "b93bbdb3-1675-47ee-eed0-63eed681714e"
      },
      "source": [
        "# Lasso\n",
        "\n",
        "import numpy as np\n",
        "import matplotlib.pyplot as plt\n",
        "import pandas as pd\n",
        "\n",
        "#Loading the dataset\n",
        "dataset = pd.read_csv('processed_without_modelbrand.csv')\n",
        "\n",
        "X = dataset.iloc[:,2:].values \n",
        "y = dataset.iloc[:,1].values\n",
        "\n",
        "#Splitting the data into Training Set and Test Set\n",
        "from sklearn.model_selection import train_test_split\n",
        "X_train, X_test, y_train, y_test = train_test_split(X,y,test_size=0.2,random_state=0)\n",
        "\n",
        "\n",
        "#Polynomial Regression with Lasso\n",
        "from sklearn.preprocessing import PolynomialFeatures\n",
        "from sklearn.linear_model import Lasso\n",
        "polyFeatureObj = PolynomialFeatures(degree=3)\n",
        "X_poly = polyFeatureObj.fit_transform(X_train)\n",
        "X_poly_test = polyFeatureObj.fit_transform(X_test)  \n",
        "lassoObj = Lasso()\n",
        "lassoObj.fit(X_poly, y_train)\n",
        "\n",
        "from sklearn.metrics import mean_squared_error\n",
        "y_pred = lassoObj.predict(X_poly_test)\n",
        "print(lassoObj.score(X_poly_test,y_test))\n",
        "print(y_test)\n",
        "print(y_pred)\n",
        "print(mean_squared_error(y_test, y_pred))\n",
        "print(mean_squared_error(10**y_test, 10**y_pred))"
      ],
      "execution_count": 11,
      "outputs": [
        {
          "output_type": "stream",
          "text": [
            "/usr/local/lib/python3.6/dist-packages/sklearn/linear_model/_coordinate_descent.py:476: ConvergenceWarning: Objective did not converge. You might want to increase the number of iterations. Duality gap: 6393.461759487065, tolerance: 5.617437698763439\n",
            "  positive)\n"
          ],
          "name": "stderr"
        },
        {
          "output_type": "stream",
          "text": [
            "0.7727468879054702\n",
            "[3.11394335 4.0374265  3.91381385 ... 4.35216322 3.69853549 3.34242268]\n",
            "[3.02619921 4.05935566 3.99195311 ... 4.08513394 3.71437823 3.22779485]\n",
            "0.05737494051030482\n",
            "891852291922635.6\n"
          ],
          "name": "stdout"
        }
      ]
    },
    {
      "cell_type": "code",
      "metadata": {
        "id": "0AsoYTH0U5Fk",
        "colab_type": "code",
        "colab": {
          "base_uri": "https://localhost:8080/",
          "height": 166
        },
        "outputId": "875e496e-d781-4259-ea4c-5c8ec8c665e8"
      },
      "source": [
        "# ElasticNet\n",
        "\n",
        "import numpy as np\n",
        "import matplotlib.pyplot as plt\n",
        "import pandas as pd\n",
        "\n",
        "#Loading the dataset\n",
        "dataset = pd.read_csv('processed_without_modelbrand.csv')\n",
        "\n",
        "X = dataset.iloc[:,2:].values \n",
        "y = dataset.iloc[:,1].values\n",
        "\n",
        "#Splitting the data into Training Set and Test Set\n",
        "from sklearn.model_selection import train_test_split\n",
        "X_train, X_test, y_train, y_test = train_test_split(X,y,test_size=0.2,random_state=0)\n",
        "\n",
        "\n",
        "#Polynomial Regression with ElasticNet\n",
        "from sklearn.preprocessing import PolynomialFeatures\n",
        "from sklearn.linear_model import ElasticNet\n",
        "polyFeatureObj = PolynomialFeatures(degree=3)\n",
        "X_poly = polyFeatureObj.fit_transform(X_train)\n",
        "X_poly_test = polyFeatureObj.fit_transform(X_test)  \n",
        "enObj = ElasticNet(l1_ratio=1)\n",
        "enObj.fit(X_poly, y_train)\n",
        "\n",
        "from sklearn.metrics import mean_squared_error\n",
        "print(enObj.score(X_poly_test,y_test))\n",
        "y_pred = enObj.predict(X_poly_test)\n",
        "print(y_test)\n",
        "print(y_pred)\n",
        "print(mean_squared_error(y_test, y_pred))\n",
        "print(mean_squared_error(10**y_test, 10**y_pred))"
      ],
      "execution_count": 12,
      "outputs": [
        {
          "output_type": "stream",
          "text": [
            "/usr/local/lib/python3.6/dist-packages/sklearn/linear_model/_coordinate_descent.py:476: ConvergenceWarning: Objective did not converge. You might want to increase the number of iterations. Duality gap: 6393.461759487065, tolerance: 5.617437698763439\n",
            "  positive)\n"
          ],
          "name": "stderr"
        },
        {
          "output_type": "stream",
          "text": [
            "0.7727468879054702\n",
            "[3.11394335 4.0374265  3.91381385 ... 4.35216322 3.69853549 3.34242268]\n",
            "[3.02619921 4.05935566 3.99195311 ... 4.08513394 3.71437823 3.22779485]\n",
            "0.05737494051030482\n",
            "891852291922635.6\n"
          ],
          "name": "stdout"
        }
      ]
    },
    {
      "cell_type": "code",
      "metadata": {
        "id": "tU6azWNfU5Fv",
        "colab_type": "code",
        "colab": {}
      },
      "source": [
        "#Predicting on the Test Set\n",
        "print(prObj.score(X_poly_test,y_test))\n",
        "y_pred = prObj.predict(X_poly_test)\n",
        "print(y_pred)\n",
        "print(y_test)\n",
        "\n",
        "\n",
        "# calculating mean squared error from of the models\n",
        "MSE = np.mean((y_test - y_pred)**2)\n",
        "MSE_sig = np.mean((y_test - y_sig_pred)**2)"
      ],
      "execution_count": 0,
      "outputs": []
    }
  ]
}