{
  "nbformat": 4,
  "nbformat_minor": 0,
  "metadata": {
    "kernelspec": {
      "display_name": "Python 3",
      "language": "python",
      "name": "python3"
    },
    "language_info": {
      "codemirror_mode": {
        "name": "ipython",
        "version": 3
      },
      "file_extension": ".py",
      "mimetype": "text/x-python",
      "name": "python",
      "nbconvert_exporter": "python",
      "pygments_lexer": "ipython3",
      "version": "3.7.3"
    },
    "colab": {
      "name": "RegularizedRegresions_noBrands.ipynb",
      "provenance": [],
      "include_colab_link": true
    }
  },
  "cells": [
    {
      "cell_type": "markdown",
      "metadata": {
        "id": "view-in-github",
        "colab_type": "text"
      },
      "source": [
        "<a href=\"https://colab.research.google.com/github/nietzscholas9000/UsedCarsProject/blob/master/RegularizedRegresions_noBrands.ipynb\" target=\"_parent\"><img src=\"https://colab.research.google.com/assets/colab-badge.svg\" alt=\"Open In Colab\"/></a>"
      ]
    },
    {
      "cell_type": "code",
      "metadata": {
        "id": "SGsHZSF_U5FG",
        "colab_type": "code",
        "colab": {}
      },
      "source": [
        "# Non regularized poynomial regression followed by ridge, lasso, and elasticNet\n",
        "\n",
        "import numpy as np\n",
        "import matplotlib.pyplot as plt\n",
        "import pandas as pd\n",
        "\n",
        "#Loading the dataset\n",
        "dataset = pd.read_csv('processed_without_modelbrand.csv')\n",
        "\n",
        "X = dataset.iloc[:,2:].values \n",
        "y = dataset.iloc[:,1].values\n",
        "\n",
        "#Splitting the data into Training Set and Test Set\n",
        "from sklearn.model_selection import train_test_split\n",
        "X_train, X_test, y_train, y_test = train_test_split(X,y,test_size=0.2,random_state=0)"
      ],
      "execution_count": 0,
      "outputs": []
    },
    {
      "cell_type": "code",
      "metadata": {
        "id": "4YfGuLN8U5FQ",
        "colab_type": "code",
        "colab": {
          "base_uri": "https://localhost:8080/",
          "height": 35
        },
        "outputId": "2eff222f-af39-49eb-8980-d35ca48cfa68"
      },
      "source": [
        "#Fitting Multiple Linear Regression to Training Set\n",
        "from sklearn.linear_model import LinearRegression\n",
        "# mlrObj = LinearRegression()\n",
        "# mlrObj.fit(X_train,y_train)\n",
        "\n",
        "#Polynomial Regression No Regularization\n",
        "from sklearn.preprocessing import PolynomialFeatures\n",
        "polyFeatureObj = PolynomialFeatures(degree=3)\n",
        "X_poly = polyFeatureObj.fit_transform(X_train)\n",
        "X_poly_test = polyFeatureObj.fit_transform(X_test)  \n",
        "prObj = LinearRegression()\n",
        "prObj.fit(X_poly, y_train)\n",
        "\n",
        "print(prObj.score(X_poly_test,y_test))\n",
        "\n",
        "# runs out of memory above 3 degrees on normal colab"
      ],
      "execution_count": 2,
      "outputs": [
        {
          "output_type": "stream",
          "text": [
            "0.8005625104685701\n"
          ],
          "name": "stdout"
        }
      ]
    },
    {
      "cell_type": "code",
      "metadata": {
        "id": "e3AqjTXJU5FZ",
        "colab_type": "code",
        "colab": {}
      },
      "source": [
        "# Non regularized poynomial regretion followed by ridge, lasso, and elasticNet\n",
        "\n",
        "import numpy as np\n",
        "import matplotlib.pyplot as plt\n",
        "import pandas as pd\n",
        "\n",
        "#Loading the dataset\n",
        "dataset = pd.read_csv('processed_without_modelbrand.csv')\n",
        "\n",
        "X = dataset.iloc[:,2:].values \n",
        "y = dataset.iloc[:,1].values\n",
        "\n",
        "#Splitting the data into Training Set and Test Set\n",
        "from sklearn.model_selection import train_test_split\n",
        "X_train, X_test, y_train, y_test = train_test_split(X,y,test_size=0.2,random_state=0)\n",
        "\n",
        "\n",
        "\n",
        "#Polynomial Regression with Ridge\n",
        "# runs out of memory above 3 degrees on normal colab\n",
        "from sklearn.preprocessing import PolynomialFeatures\n",
        "from sklearn.linear_model import Ridge\n",
        "polyFeatureObj = PolynomialFeatures(degree=3)\n",
        "X_poly = polyFeatureObj.fit_transform(X_train)\n",
        "X_poly_test = polyFeatureObj.fit_transform(X_test) \n",
        "ridgeObj = Ridge()\n",
        "ridgeObj.fit(X_poly, y_train)\n",
        "\n",
        "print(ridgeObj.score(X_poly_test,y_test))"
      ],
      "execution_count": 0,
      "outputs": []
    },
    {
      "cell_type": "code",
      "metadata": {
        "id": "zhva7t--U5Ff",
        "colab_type": "code",
        "colab": {
          "base_uri": "https://localhost:8080/",
          "height": 266
        },
        "outputId": "e62fe114-212c-4010-b184-fdc8cd7c329b"
      },
      "source": [
        "# Non regularized poynomial regretion followed by ridge, lasso, and elasticNet\n",
        "\n",
        "import numpy as np\n",
        "import matplotlib.pyplot as plt\n",
        "import pandas as pd\n",
        "\n",
        "#Loading the dataset\n",
        "dataset = pd.read_csv('processed_without_modelbrand.csv')\n",
        "\n",
        "X = dataset.iloc[:,2:].values \n",
        "y = dataset.iloc[:,1].values\n",
        "\n",
        "#Splitting the data into Training Set and Test Set\n",
        "from sklearn.model_selection import train_test_split\n",
        "X_train, X_test, y_train, y_test = train_test_split(X,y,test_size=0.2,random_state=0)\n",
        "\n",
        "\n",
        "#Polynomial Regression with Lasso\n",
        "from sklearn.preprocessing import PolynomialFeatures\n",
        "from sklearn.linear_model import Lasso\n",
        "polyFeatureObj = PolynomialFeatures(degree=3)\n",
        "X_poly = polyFeatureObj.fit_transform(X_train)\n",
        "X_poly_test = polyFeatureObj.fit_transform(X_test)  \n",
        "lassoObj = Lasso()\n",
        "lassoObj.fit(X_poly, y_train)\n",
        "\n",
        "print(ridgeObj.score(X_poly_test,y_test))"
      ],
      "execution_count": 2,
      "outputs": [
        {
          "output_type": "stream",
          "text": [
            "/usr/local/lib/python3.6/dist-packages/sklearn/linear_model/_coordinate_descent.py:476: ConvergenceWarning: Objective did not converge. You might want to increase the number of iterations. Duality gap: 6393.461759487065, tolerance: 5.617437698763439\n",
            "  positive)\n"
          ],
          "name": "stderr"
        },
        {
          "output_type": "error",
          "ename": "NameError",
          "evalue": "ignored",
          "traceback": [
            "\u001b[0;31m---------------------------------------------------------------------------\u001b[0m",
            "\u001b[0;31mNameError\u001b[0m                                 Traceback (most recent call last)",
            "\u001b[0;32m<ipython-input-2-93d75f4d421f>\u001b[0m in \u001b[0;36m<module>\u001b[0;34m()\u001b[0m\n\u001b[1;32m     25\u001b[0m \u001b[0mlassoObj\u001b[0m\u001b[0;34m.\u001b[0m\u001b[0mfit\u001b[0m\u001b[0;34m(\u001b[0m\u001b[0mX_poly\u001b[0m\u001b[0;34m,\u001b[0m \u001b[0my_train\u001b[0m\u001b[0;34m)\u001b[0m\u001b[0;34m\u001b[0m\u001b[0;34m\u001b[0m\u001b[0m\n\u001b[1;32m     26\u001b[0m \u001b[0;34m\u001b[0m\u001b[0m\n\u001b[0;32m---> 27\u001b[0;31m \u001b[0mprint\u001b[0m\u001b[0;34m(\u001b[0m\u001b[0mridgeObj\u001b[0m\u001b[0;34m.\u001b[0m\u001b[0mscore\u001b[0m\u001b[0;34m(\u001b[0m\u001b[0mX_poly_test\u001b[0m\u001b[0;34m,\u001b[0m\u001b[0my_test\u001b[0m\u001b[0;34m)\u001b[0m\u001b[0;34m)\u001b[0m\u001b[0;34m\u001b[0m\u001b[0;34m\u001b[0m\u001b[0m\n\u001b[0m",
            "\u001b[0;31mNameError\u001b[0m: name 'ridgeObj' is not defined"
          ]
        }
      ]
    },
    {
      "cell_type": "code",
      "metadata": {
        "id": "0AsoYTH0U5Fk",
        "colab_type": "code",
        "colab": {}
      },
      "source": [
        "#Polynomial Regression with ElasticNet\n",
        "from sklearn.preprocessing import PolynomialFeatures\n",
        "from sklearn.linear_model import ElasticNet\n",
        "polyFeatureObj = PolynomialFeatures(degree=3)\n",
        "X_poly = polyFeatureObj.fit_transform(X_train)\n",
        "X_poly_test = polyFeatureObj.fit_transform(X_test)  \n",
        "enObj = ElasticNet(l1_ratio=1)\n",
        "enObj.fit(X_poly, y_train)"
      ],
      "execution_count": 0,
      "outputs": []
    },
    {
      "cell_type": "code",
      "metadata": {
        "id": "BG8DFpu8U5Fp",
        "colab_type": "code",
        "colab": {}
      },
      "source": [
        "# visualizations from profs notebook, will X variables need to be changed to X_poly?\n",
        "\n",
        "#Visualizing Results of Polynomial Regression\n",
        "plt.scatter(X, y, color='red')\n",
        "plt.plot(X, prObj.predict(X_poly), color='blue')\n",
        "plt.title('Results of Polynomial Regression Model')\n",
        "plt.xlabel('Level')\n",
        "plt.ylabel('Salary')\n",
        "plt.show()\n",
        "\n",
        "#Visualizing Results of Ridge Regression\n",
        "plt.scatter(X, y, color='red')\n",
        "plt.plot(X, ridgeObj.predict(X_poly), color='blue')\n",
        "plt.title('Results of Ridge Regression Model')\n",
        "plt.xlabel('Level')\n",
        "plt.ylabel('Salary')\n",
        "plt.show()\n",
        "\n",
        "#Visualizing Results of Lasso Regression\n",
        "plt.scatter(X, y, color='red')\n",
        "plt.plot(X, lassoObj.predict(X_poly), color='blue')\n",
        "plt.title('Results of Lasso Regression Model')\n",
        "plt.xlabel('Level')\n",
        "plt.ylabel('Salary')\n",
        "plt.show()\n",
        "\n",
        "#Visualizing Results of ElasticNet Regression\n",
        "plt.scatter(X, y, color='red')\n",
        "plt.plot(X, enObj.predict(X_poly), color='blue')\n",
        "plt.title('Results of ElasticNet Regression Model')\n",
        "plt.xlabel('Level')\n",
        "plt.ylabel('Salary')\n",
        "plt.show()"
      ],
      "execution_count": 0,
      "outputs": []
    },
    {
      "cell_type": "code",
      "metadata": {
        "id": "tU6azWNfU5Fv",
        "colab_type": "code",
        "colab": {}
      },
      "source": [
        "#Predicting on the Test Set\n",
        "print(prObj.score(X_poly_test,y_test))\n",
        "y_pred = prObj.predict(X_poly_test)\n",
        "print(y_pred)\n",
        "print(y_test)\n",
        "\n",
        "\n",
        "# calculating mean squared error from of the models\n",
        "MSE = np.mean((y_test - y_pred)**2)\n",
        "MSE_sig = np.mean((y_test - y_sig_pred)**2)"
      ],
      "execution_count": 0,
      "outputs": []
    }
  ]
}